{
 "cells": [
  {
   "cell_type": "code",
   "execution_count": 1,
   "metadata": {},
   "outputs": [],
   "source": [
    "import numpy as np\n",
    "\n",
    "def rounding(x):\n",
    "    if x>=0 and round(x)<=x:\n",
    "        return round(x)\n",
    "    if x>=0 and round(x)>x:\n",
    "        return round(x)-1\n",
    "    elif x<0 and round(x)>=x:\n",
    "        return round(x)\n",
    "    elif x<0 and round(x)<x:\n",
    "        return round(x)+1\n",
    "\n",
    "def degree_trafo(x):\n",
    "    degree=int(rounding(x))\n",
    "    minute=int(rounding(np.abs(x-degree)*60))\n",
    "    second=round((np.abs(x-degree)*60-minute)*60,1)\n",
    "    print('declination = '+str(degree)+' '+str(minute)+' '+str(second))\n",
    "    \n",
    "def degree_to_hour(x):\n",
    "    hour=int(rounding(x/360*24))\n",
    "    minute=int(rounding((x/360*24-hour)*60))\n",
    "    second=round((((x/360*24-hour)*60)-minute)*60,1)\n",
    "    print('right ascension = '+str(hour)+' '+str(minute)+' '+str(second))\n",
    "    \n",
    "def trafo(ra,dec):\n",
    "    degree_to_hour(ra)\n",
    "    degree_trafo(dec)"
   ]
  },
  {
   "cell_type": "code",
   "execution_count": 2,
   "metadata": {},
   "outputs": [
    {
     "name": "stdout",
     "output_type": "stream",
     "text": [
      "White dwarfs:\n",
      "right ascension = 2 35 51.3\n",
      "declination = 1 18 44.9\n",
      "right ascension = 8 54 22.4\n",
      "declination = 1 36 50.7\n",
      "right ascension = 13 36 19.6\n",
      "declination = -6 37 58.5\n",
      "\n",
      "Hot subdwarfs:\n",
      "right ascension = 0 5 56.7\n",
      "declination = -34 53 6.6\n",
      "right ascension = 1 56 31.9\n",
      "declination = -13 54 28.2\n",
      "right ascension = 2 41 19.9\n",
      "declination = -20 25 57.5\n",
      "right ascension = 4 11 30.2\n",
      "declination = -48 53 47.7\n",
      "right ascension = 4 24 46.7\n",
      "declination = -27 55 12.1\n",
      "right ascension = 4 33 3.8\n",
      "declination = -24 51 19.7\n",
      "right ascension = 12 24 32.7\n",
      "declination = -26 35 16.7\n",
      "right ascension = 11 36 3.5\n",
      "declination = -16 54 56.9\n",
      "right ascension = 11 38 28.8\n",
      "declination = -29 6 55.2\n",
      "right ascension = 13 11 45.0\n",
      "declination = -8 5 22.3\n",
      "right ascension = 14 44 12.1\n",
      "declination = -6 10 44.8\n",
      "right ascension = 15 2 12.1\n",
      "declination = -2 45 58.0\n",
      "right ascension = 21 59 35.5\n",
      "declination = -39 13 14.9\n",
      "right ascension = 22 5 48.2\n",
      "declination = -35 19 38.8\n",
      "right ascension = 22 16 23.5\n",
      "declination = -21 57 26.1\n",
      "right ascension = 23 45 26.7\n",
      "declination = -15 28 38.6\n"
     ]
    }
   ],
   "source": [
    "wd3 = np.transpose(np.genfromtxt('white_dwarfs_simbad_dered.txt',delimiter=',',skip_header=1))\n",
    "hs1 = np.transpose(np.genfromtxt('hot_subdwarfs_simbad_dered.txt',delimiter=',',skip_header=1))\n",
    "\n",
    "print('White dwarfs:')\n",
    "\n",
    "for i in range(3):\n",
    "    trafo(wd3[36][i],wd3[38][i])\n",
    "\n",
    "print('\\nHot subdwarfs:')\n",
    "    \n",
    "for i in range(16):\n",
    "    trafo(hs1[36][i],hs1[38][i])"
   ]
  },
  {
   "cell_type": "code",
   "execution_count": 3,
   "metadata": {},
   "outputs": [
    {
     "name": "stdout",
     "output_type": "stream",
     "text": [
      "right ascension = 2 7 48.8\n",
      "declination = -24 20 6.4\n",
      "right ascension = 2 21 35.1\n",
      "declination = -32 58 37.1\n",
      "right ascension = 2 35 51.3\n",
      "declination = 1 18 44.9\n",
      "right ascension = 5 15 50.9\n",
      "declination = -23 52 39.4\n",
      "right ascension = 12 45 45.6\n",
      "declination = 1 45 22.6\n",
      "right ascension = 13 49 51.2\n",
      "declination = -26 22 48.3\n",
      "right ascension = 14 44 12.1\n",
      "declination = -6 10 44.8\n",
      "right ascension = 21 26 1.9\n",
      "declination = -42 24 52.8\n",
      "right ascension = 23 30 37.5\n",
      "declination = -16 29 56.9\n",
      "right ascension = 23 46 7.2\n",
      "declination = -22 50 38.2\n"
     ]
    }
   ],
   "source": [
    "ra_app=np.array([31.95321289058353,35.396400833882765,38.96392520173907,78.96194475613585,191.43999919425724,207.46329823691144,221.0503874127774,321.5080986918469,352.65613,356.53009])\n",
    "dec_app=np.array([-24.335106528510668,-32.97696563270841,1.3124634833636268,-23.877607165317457,1.7562745945560352,-26.38009171650448,-6.179103293035779,-42.41466319912288,-16.49915,-22.84395])\n",
    "\n",
    "for i in range(np.size(ra_app)):\n",
    "    trafo(ra_app[i],dec_app[i])"
   ]
  }
 ],
 "metadata": {
  "kernelspec": {
   "display_name": "Python 3",
   "language": "python",
   "name": "python3"
  },
  "language_info": {
   "codemirror_mode": {
    "name": "ipython",
    "version": 3
   },
   "file_extension": ".py",
   "mimetype": "text/x-python",
   "name": "python",
   "nbconvert_exporter": "python",
   "pygments_lexer": "ipython3",
   "version": "3.7.3"
  }
 },
 "nbformat": 4,
 "nbformat_minor": 2
}
